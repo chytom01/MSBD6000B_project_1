{
 "cells": [
  {
   "cell_type": "code",
   "execution_count": 1,
   "metadata": {
    "collapsed": true
   },
   "outputs": [],
   "source": [
    "import csv\n",
    "import numpy as np\n",
    "import pandas as pd\n",
    "\n",
    "from sklearn.preprocessing import StandardScaler\n",
    "from sklearn.model_selection import train_test_split\n",
    "from sklearn.model_selection import GridSearchCV\n",
    "from sklearn import svm\n",
    "from sklearn import metrics\n",
    "from sklearn import ensemble\n",
    "from sklearn import linear_model"
   ]
  },
  {
   "cell_type": "code",
   "execution_count": 2,
   "metadata": {
    "collapsed": true
   },
   "outputs": [],
   "source": [
    "def write_result(result):\n",
    "    result = result.reshape((result.shape[0],1))\n",
    "    result = result.astype(float)\n",
    "    result = result.astype(int)\n",
    "    with open('testlabel.csv','w',newline='') as f:\n",
    "        writer = csv.writer(f, delimiter = ',')\n",
    "        for row in result:\n",
    "            writer.writerow(row)"
   ]
  },
  {
   "cell_type": "code",
   "execution_count": 3,
   "metadata": {
    "collapsed": true
   },
   "outputs": [],
   "source": [
    "# read data\n",
    "train_X = []\n",
    "with open('traindata.csv','r') as f:\n",
    "    reader = csv.reader(f,delimiter = ',')\n",
    "    for row in reader:\n",
    "        train_X.append(row)\n",
    "        \n",
    "train_Y = []\n",
    "with open('trainlabel.csv','r') as f:\n",
    "    reader = csv.reader(f,delimiter = ',')\n",
    "    for row in reader:\n",
    "        train_Y.append(row)\n",
    "train_Y = np.array(train_Y)\n",
    "train_Y = train_Y.reshape((train_Y.shape[0],))\n",
    "        \n",
    "test_X = []\n",
    "with open('testdata.csv','r') as f:\n",
    "    reader = csv.reader(f,delimiter = ',')\n",
    "    for row in reader:\n",
    "        test_X.append(row)"
   ]
  },
  {
   "cell_type": "code",
   "execution_count": 4,
   "metadata": {
    "collapsed": true
   },
   "outputs": [],
   "source": [
    "# normalize data\n",
    "scaler = StandardScaler()\n",
    "train_X_normed = scaler.fit_transform(train_X)\n",
    "test_X_normed = scaler.fit_transform(test_X)"
   ]
  },
  {
   "cell_type": "code",
   "execution_count": 5,
   "metadata": {
    "collapsed": true
   },
   "outputs": [],
   "source": [
    "# split training data in to training set and validation set\n",
    "trainX, validX, trainY, validY = train_test_split(train_X_normed, train_Y, test_size=0.1, random_state=17)"
   ]
  },
  {
   "cell_type": "code",
   "execution_count": 10,
   "metadata": {},
   "outputs": [
    {
     "name": "stdout",
     "output_type": "stream",
     "text": [
      "Fitting 10 folds for each of 13 candidates, totalling 130 fits\n"
     ]
    },
    {
     "name": "stderr",
     "output_type": "stream",
     "text": [
      "[Parallel(n_jobs=1)]: Done 130 out of 130 | elapsed: 25.2min finished\n"
     ]
    },
    {
     "data": {
      "text/plain": [
       "GridSearchCV(cv=10, error_score='raise',\n",
       "       estimator=SVC(C=1.0, cache_size=200, class_weight=None, coef0=0.0,\n",
       "  decision_function_shape='ovr', degree=3, gamma='auto', kernel='linear',\n",
       "  max_iter=-1, probability=False, random_state=17, shrinking=True,\n",
       "  tol=0.001, verbose=False),\n",
       "       fit_params=None, iid=True, n_jobs=1,\n",
       "       param_grid={'C': array([  1.00000e-03,   3.16228e-03,   1.00000e-02,   3.16228e-02,\n",
       "         1.00000e-01,   3.16228e-01,   1.00000e+00,   3.16228e+00,\n",
       "         1.00000e+01,   3.16228e+01,   1.00000e+02,   3.16228e+02,\n",
       "         1.00000e+03])},\n",
       "       pre_dispatch='2*n_jobs', refit=True, return_train_score=True,\n",
       "       scoring=None, verbose=1)"
      ]
     },
     "execution_count": 10,
     "metadata": {},
     "output_type": "execute_result"
    }
   ],
   "source": [
    "# SVM\n",
    "paramgrid = {'C': np.logspace(-3,3,13)}\n",
    "svmcv = GridSearchCV(estimator=svm.SVC(kernel='linear',random_state=17), param_grid = paramgrid, cv=10,verbose=1)\n",
    "svmcv.fit(trainX, trainY)"
   ]
  },
  {
   "cell_type": "code",
   "execution_count": 11,
   "metadata": {},
   "outputs": [
    {
     "data": {
      "text/plain": [
       "0.92719116632160115"
      ]
     },
     "execution_count": 11,
     "metadata": {},
     "output_type": "execute_result"
    }
   ],
   "source": [
    "svmcv.best_score_"
   ]
  },
  {
   "cell_type": "code",
   "execution_count": 12,
   "metadata": {},
   "outputs": [
    {
     "name": "stdout",
     "output_type": "stream",
     "text": [
      "test accuracy = 0.937888198758\n"
     ]
    }
   ],
   "source": [
    "predY = svmcv.predict(validX)\n",
    "acc = metrics.accuracy_score(validY, predY)\n",
    "print (\"test accuracy = \" + str(acc))"
   ]
  },
  {
   "cell_type": "code",
   "execution_count": 6,
   "metadata": {
    "collapsed": true
   },
   "outputs": [],
   "source": [
    "# Random Forest\n",
    "paramgrid = {'n_estimators': np.array([1,2,3,5,7, 10, 13, 15, 20, 27, 35,50,80, 100]) }\n",
    "rfcv = GridSearchCV(ensemble.RandomForestClassifier(random_state=71),paramgrid, cv=10)\n",
    "rfcv.fit(trainX, trainY)\n",
    "predY = rfcv.best_estimator_.predict(validX)"
   ]
  },
  {
   "cell_type": "code",
   "execution_count": 7,
   "metadata": {},
   "outputs": [
    {
     "name": "stdout",
     "output_type": "stream",
     "text": [
      "Accuracy on test-set: 0.950310559006\n"
     ]
    }
   ],
   "source": [
    "acc = metrics.accuracy_score(validY, predY)\n",
    "print('Accuracy on test-set: ' + str(acc))\n"
   ]
  },
  {
   "cell_type": "code",
   "execution_count": 73,
   "metadata": {},
   "outputs": [
    {
     "name": "stdout",
     "output_type": "stream",
     "text": [
      "Accuracy on test-set: 0.94099378882\n"
     ]
    }
   ],
   "source": [
    "# adaboost\n",
    "paramgrid = {'n_estimators': np.array([1,3,5,7, 10, 13, 15, 20, 33,50,80, 100]) }\n",
    "adacv = GridSearchCV(ensemble.AdaBoostClassifier(random_state=7),paramgrid, cv=5)\n",
    "adacv.fit(trainX, trainY)\n",
    "predY = adacv.best_estimator_.predict(validX)\n",
    "acc = metrics.accuracy_score(validY, predY)\n",
    "print('Accuracy on test-set: ' + str(acc))"
   ]
  },
  {
   "cell_type": "code",
   "execution_count": 114,
   "metadata": {
    "collapsed": true
   },
   "outputs": [],
   "source": []
  },
  {
   "cell_type": "code",
   "execution_count": 9,
   "metadata": {
    "collapsed": true
   },
   "outputs": [],
   "source": [
    "# make prediction and write to file\n",
    "write_result(rfcv.best_estimator_.predict(test_X_normed))"
   ]
  },
  {
   "cell_type": "code",
   "execution_count": null,
   "metadata": {
    "collapsed": true
   },
   "outputs": [],
   "source": []
  }
 ],
 "metadata": {
  "kernelspec": {
   "display_name": "Python 3",
   "language": "python",
   "name": "python3"
  },
  "language_info": {
   "codemirror_mode": {
    "name": "ipython",
    "version": 3
   },
   "file_extension": ".py",
   "mimetype": "text/x-python",
   "name": "python",
   "nbconvert_exporter": "python",
   "pygments_lexer": "ipython3",
   "version": "3.6.1"
  }
 },
 "nbformat": 4,
 "nbformat_minor": 2
}
